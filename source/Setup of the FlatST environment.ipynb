{
 "cells": [
  {
   "cell_type": "markdown",
   "id": "164e498a",
   "metadata": {},
   "source": [
    "# Setup of the FlatST environment"
   ]
  },
  {
   "cell_type": "markdown",
   "id": "d1d6481b",
   "metadata": {},
   "source": [
    "FlatST is a method for achieving high-efficiency clustering of spatial transcriptomes built on the **pytorch** framework. It can run normally on both Windows and linux systems. We recommend that you create a new virtual environment and have pytorch installed."
   ]
  },
  {
   "cell_type": "markdown",
   "id": "937114ec",
   "metadata": {},
   "source": [
    "## Build the pytorch framework and PyG"
   ]
  },
  {
   "cell_type": "code",
   "execution_count": null,
   "id": "34711932",
   "metadata": {},
   "outputs": [],
   "source": [
    "# bash\n",
    "# conda create -n FlatST python==3.10\n",
    "# conda activate FlatST\n",
    "# pip install torch torchvision torchaudio --index-url https://download.pytorch.org/whl/cu121"
   ]
  },
  {
   "cell_type": "markdown",
   "id": "6c61fe1c",
   "metadata": {},
   "source": [
    "## Download FlatST from github repository"
   ]
  },
  {
   "cell_type": "code",
   "execution_count": null,
   "id": "c65ef74e",
   "metadata": {},
   "outputs": [],
   "source": [
    "# bash\n",
    "# cd your/FlatST/path\n",
    "# git clone https://github.com/CHENszu/FlatST.git\n",
    "# cd FlatST\n",
    "# ls -a"
   ]
  },
  {
   "cell_type": "markdown",
   "id": "b780601e",
   "metadata": {},
   "source": [
    "## Configure FlatST"
   ]
  },
  {
   "cell_type": "code",
   "execution_count": null,
   "id": "28d97780",
   "metadata": {},
   "outputs": [],
   "source": [
    "# bash\n",
    "# python setup.py build\n",
    "# python setup.py install"
   ]
  }
 ],
 "metadata": {
  "kernelspec": {
   "display_name": "torch4",
   "language": "python",
   "name": "python3"
  },
  "language_info": {
   "name": "python",
   "version": "3.9.20"
  }
 },
 "nbformat": 4,
 "nbformat_minor": 5
}
